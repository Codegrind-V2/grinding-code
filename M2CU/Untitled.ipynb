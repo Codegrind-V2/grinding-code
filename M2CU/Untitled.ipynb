{
 "cells": [
  {
   "cell_type": "code",
   "execution_count": 18,
   "metadata": {},
   "outputs": [],
   "source": [
    "import reducio"
   ]
  },
  {
   "cell_type": "code",
   "execution_count": 19,
   "metadata": {},
   "outputs": [],
   "source": [
    "text =  \"Does it help that your wife Anushka [Sharma, the Bollywood actress and film producer] understands what it’s like to be in the public eye?That was one of the reasons why we got along so well, to be able to understand each other’s mindset and the demands of being in such a position. And also the fact that we are so similar in terms of the backgrounds we have. People do not understand us at all.\""
   ]
  },
  {
   "cell_type": "code",
   "execution_count": 22,
   "metadata": {},
   "outputs": [
    {
     "data": {
      "text/plain": [
       "'<p>Does it help that your wife Anushka [Sharma, the Bollywood actress and film producer] understands what it\\xe2\\x80\\x99s like to be in the public eye?That was one of the reasons why we got along so well, to be able to understand each other\\xe2\\x80\\x99s mindset and the demands of being in such a position.</p><p>People do not understand us at all.</p>'"
      ]
     },
     "execution_count": 22,
     "metadata": {},
     "output_type": "execute_result"
    }
   ],
   "source": [
    "reducio.reducio(text, 2)"
   ]
  },
  {
   "cell_type": "code",
   "execution_count": null,
   "metadata": {},
   "outputs": [],
   "source": [
    "def summarize(text):\n",
    "    reducio.reducio(text,)"
   ]
  }
 ],
 "metadata": {
  "kernelspec": {
   "display_name": "",
   "name": ""
  },
  "language_info": {
   "name": ""
  }
 },
 "nbformat": 4,
 "nbformat_minor": 2
}
