{
 "cells": [
  {
   "cell_type": "code",
   "execution_count": 12,
   "metadata": {},
   "outputs": [],
   "source": [
    "import reducio"
   ]
  },
  {
   "cell_type": "code",
   "execution_count": 13,
   "metadata": {},
   "outputs": [],
   "source": [
    "text =  \"Does it help that your wife Anushka [Sharma, the Bollywood actress and film producer] understands what it’s like to be in the public eye?That was one of the reasons why we got along so well, to be able to understand each other’s mindset and the demands of being in such a position. And also the fact that we are so similar in terms of the backgrounds we have. People do not understand us at all. They think we live a fairytale life and things are only of royal standards, but in reality we are really normal people. We are in the public eye so it seems too far-fetched for the public to connect with, but we lead a very simple life at home. And that’s how we like to live. We do something that is in the public eye but we never chose to be recognised in this way.\""
   ]
  },
  {
   "cell_type": "code",
   "execution_count": 15,
   "metadata": {},
   "outputs": [
    {
     "data": {
      "text/plain": [
       "'<p>We are in the public eye so it seems too far-fetched for the public to connect with, but we lead a very simple life at home.</p><p>We do something that is in the public eye but we never chose to be recognised in this way.</p>'"
      ]
     },
     "execution_count": 15,
     "metadata": {},
     "output_type": "execute_result"
    }
   ],
   "source": [
    "reducio.reducio(text, 2)"
   ]
  },
  {
   "cell_type": "code",
   "execution_count": null,
   "metadata": {},
   "outputs": [],
   "source": [
    "def "
   ]
  }
 ],
 "metadata": {
  "kernelspec": {
   "display_name": "",
   "name": ""
  },
  "language_info": {
   "name": ""
  }
 },
 "nbformat": 4,
 "nbformat_minor": 2
}
