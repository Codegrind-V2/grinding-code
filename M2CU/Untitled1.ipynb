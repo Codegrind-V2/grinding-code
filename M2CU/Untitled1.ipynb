{
 "cells": [
  {
   "cell_type": "code",
   "execution_count": 2,
   "metadata": {},
   "outputs": [],
   "source": [
    "from gensim.summarization.summarizer import summarize"
   ]
  },
  {
   "cell_type": "code",
   "execution_count": 3,
   "metadata": {},
   "outputs": [],
   "source": [
    "text = \"Does it help that your wife Anushka [Sharma, the Bollywood actress and film producer] understands what it’s like to be in the public eye?That was one of the reasons why we got along so well, to be able to understand each other’s mindset and the demands of being in such a position. And also the fact that we are so similar in terms of the backgrounds we have. People do not understand us at all. They think we live a fairytale life and things are only of royal standards, but in reality we are really normal people. We are in the public eye so it seems too far-fetched for the public to connect with, but we lead a very simple life at home. And that’s how we like to live. We do something that is in the public eye but we never chose to be recognised in this way.\""
   ]
  },
  {
   "cell_type": "code",
   "execution_count": 6,
   "metadata": {},
   "outputs": [
    {
     "name": "stdout",
     "output_type": "stream",
     "text": [
      "Does it help that your wife Anushka [Sharma, the Bollywood actress and film producer] understands what it’s like to be in the public eye?That was one of the reasons why we got along so well, to be able to understand each other’s mindset and the demands of being in such a position.\n",
      "They think we live a fairytale life and things are only of royal standards, but in reality we are really normal people.\n"
     ]
    }
   ],
   "source": [
    "print(summarize(text, ratio=0.3, word_count=None, split=False))"
   ]
  },
  {
   "cell_type": "code",
   "execution_count": null,
   "metadata": {},
   "outputs": [],
   "source": []
  }
 ],
 "metadata": {
  "kernelspec": {
   "display_name": "Python 2",
   "language": "python",
   "name": "python2"
  },
  "language_info": {
   "codemirror_mode": {
    "name": "ipython",
    "version": 2
   },
   "file_extension": ".py",
   "mimetype": "text/x-python",
   "name": "python",
   "nbconvert_exporter": "python",
   "pygments_lexer": "ipython2",
   "version": "2.7.12"
  }
 },
 "nbformat": 4,
 "nbformat_minor": 2
}
